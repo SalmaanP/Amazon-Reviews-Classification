{
 "cells": [
  {
   "cell_type": "code",
   "execution_count": 1,
   "metadata": {
    "collapsed": true
   },
   "outputs": [],
   "source": [
    "import helper as hp"
   ]
  },
  {
   "cell_type": "code",
   "execution_count": 2,
   "metadata": {
    "collapsed": false
   },
   "outputs": [],
   "source": [
    "train_reviews, test_reviews, train_labels = hp.loadData('train.dat', 'test.dat', False)"
   ]
  },
  {
   "cell_type": "code",
   "execution_count": 3,
   "metadata": {
    "collapsed": false
   },
   "outputs": [],
   "source": [
    "train_reviews = hp.preProcess(train_reviews)\n",
    "test_reviews = hp.preProcess(test_reviews)"
   ]
  },
  {
   "cell_type": "code",
   "execution_count": 4,
   "metadata": {
    "collapsed": false
   },
   "outputs": [],
   "source": [
    "train_matrix, test_matrix = hp.createMatrices(train_reviews, test_reviews)"
   ]
  },
  {
   "cell_type": "code",
   "execution_count": null,
   "metadata": {
    "collapsed": false
   },
   "outputs": [],
   "source": [
    "similarities1 = hp.findSimilarities(train_matrix, test_matrix[:6000])"
   ]
  },
  {
   "cell_type": "code",
   "execution_count": null,
   "metadata": {
    "collapsed": false
   },
   "outputs": [],
   "source": [
    "print hp.predict(hp.findKNearest(similarities1[0], 23), train_labels)"
   ]
  },
  {
   "cell_type": "code",
   "execution_count": 6,
   "metadata": {
    "collapsed": false
   },
   "outputs": [],
   "source": [
    "k = 27\n",
    "for test_vector in test_matrix:\n",
    "    similarity = hp.findSimilarities(train_matrix, test_vector)\n",
    "    submission = open('submission1.dat', 'a+')\n",
    "    for index, vector in enumerate(similarity):\n",
    "        answer = hp.predict(hp.findKNearest(vector, k), train_labels)\n",
    "        if answer == 1:\n",
    "            submission.write('+1\\n')\n",
    "        else:\n",
    "            submission.write('-1\\n')\n",
    "        "
   ]
  },
  {
   "cell_type": "code",
   "execution_count": null,
   "metadata": {
    "collapsed": false
   },
   "outputs": [],
   "source": [
    "def test():\n",
    "    for i in range(1, 500, 2):\n",
    "        success = 0\n",
    "        error = 0\n",
    "        for index, vector in enumerate(similarities):\n",
    "\n",
    "            if hp.predict(hp.findKNearest(vector, i), train_labels) == int(test_labels[index]):\n",
    "                success+=1\n",
    "            else:\n",
    "                error+=1\n",
    "\n",
    "        print i, success, error, success*100/len(test_labels) "
   ]
  }
 ],
 "metadata": {
  "kernelspec": {
   "display_name": "Python 2",
   "language": "python",
   "name": "python2"
  },
  "language_info": {
   "codemirror_mode": {
    "name": "ipython",
    "version": 2
   },
   "file_extension": ".py",
   "mimetype": "text/x-python",
   "name": "python",
   "nbconvert_exporter": "python",
   "pygments_lexer": "ipython2",
   "version": "2.7.12"
  }
 },
 "nbformat": 4,
 "nbformat_minor": 2
}
